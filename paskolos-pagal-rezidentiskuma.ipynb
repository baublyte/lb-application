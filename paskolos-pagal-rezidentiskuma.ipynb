{
 "cells": [
  {
   "cell_type": "markdown",
   "metadata": {},
   "source": [
    "## Dinamiška ir interaktyvi duomenų vizualizacija, remiantis duomenimis paskolos pagal rezidentiškumą\n",
    "Plačiau: https://www.lb.lt/lt/m_statistika/t-paskolos-pagal-rezidentiskuma"
   ]
  },
  {
   "cell_type": "markdown",
   "metadata": {},
   "source": []
  }
 ],
 "metadata": {
  "language_info": {
   "name": "python"
  }
 },
 "nbformat": 4,
 "nbformat_minor": 2
}
