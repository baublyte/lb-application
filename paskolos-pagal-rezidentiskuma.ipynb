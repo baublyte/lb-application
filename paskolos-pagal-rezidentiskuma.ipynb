{
 "cells": [
  {
   "cell_type": "markdown",
   "metadata": {},
   "source": [
    "## Dinamiška ir interaktyvi duomenų vizualizacija, remiantis duomenimis paskolos pagal rezidentiškumą\n",
    "Plačiau: https://www.lb.lt/lt/m_statistika/t-paskolos-pagal-rezidentiskuma"
   ]
  },
  {
   "cell_type": "markdown",
   "metadata": {},
   "source": [
    "Pirma įkeliame duomenis patikriname ar yra tuščių ar pasikartojančių duomenų. "
   ]
  },
  {
   "cell_type": "markdown",
   "metadata": {},
   "source": []
  },
  {
   "cell_type": "code",
   "execution_count": 7,
   "metadata": {},
   "outputs": [],
   "source": [
    "import pandas as pd\n",
    "import matplotlib.pyplot as plt\n"
   ]
  },
  {
   "cell_type": "code",
   "execution_count": 18,
   "metadata": {},
   "outputs": [
    {
     "name": "stdout",
     "output_type": "stream",
     "text": [
      "Index(['code', 'en_long_title', 'lt_long_title', 'date', 'value', 'power'], dtype='object')\n",
      "Total duplicate rows: 0\n",
      "Total missing (empty) values: 0\n",
      "Missing values per column:\n",
      "code             0\n",
      "en_long_title    0\n",
      "lt_long_title    0\n",
      "date             0\n",
      "value            0\n",
      "power            0\n",
      "dtype: int64\n",
      "                                       code  \\\n",
      "0  BPS.M.A20.A.1.00.000.000.LT.N.PAB__.E.SR   \n",
      "1  BPS.M.A20.A.1.00.000.000.LT.N.PAB__.E.SR   \n",
      "2  BPS.M.A20.A.1.00.000.000.LT.N.PAB__.E.SR   \n",
      "3  BPS.M.A20.A.1.00.000.000.LT.N.PAB__.E.SR   \n",
      "4  BPS.M.A20.A.1.00.000.000.LT.N.PAB__.E.SR   \n",
      "\n",
      "                                       en_long_title  \\\n",
      "0  Monetary financial institutions balance sheet ...   \n",
      "1  Monetary financial institutions balance sheet ...   \n",
      "2  Monetary financial institutions balance sheet ...   \n",
      "3  Monetary financial institutions balance sheet ...   \n",
      "4  Monetary financial institutions balance sheet ...   \n",
      "\n",
      "                                       lt_long_title     date   value    power  \n",
      "0  Pinigų finansų įstaigų balanso ir pinigų stati...  2004-04  5374.0  1000000  \n",
      "1  Pinigų finansų įstaigų balanso ir pinigų stati...  2004-05  5570.4  1000000  \n",
      "2  Pinigų finansų įstaigų balanso ir pinigų stati...  2004-06  5806.0  1000000  \n",
      "3  Pinigų finansų įstaigų balanso ir pinigų stati...  2004-07  5788.3  1000000  \n",
      "4  Pinigų finansų įstaigų balanso ir pinigų stati...  2004-08  6002.6  1000000  \n"
     ]
    }
   ],
   "source": [
    "# Load the dataset\n",
    "file_path = 'paskolos-pagal-rezidentiskuma.csv' \n",
    "data = pd.read_csv(file_path, delimiter=';')\n",
    "\n",
    "print(data.columns)\n",
    "\n",
    "# Check for duplicate rows\n",
    "duplicates = data.duplicated().sum()\n",
    "print(f'Total duplicate rows: {duplicates}')\n",
    "\n",
    "# Check for missing values\n",
    "missing_values = data.isnull().sum().sum()\n",
    "print(f'Total missing (empty) values: {missing_values}')\n",
    "\n",
    "# Show detailed missing values for each column \n",
    "print(\"Missing values per column:\")\n",
    "print(data.isnull().sum())\n",
    "print(data.head())\n"
   ]
  },
  {
   "cell_type": "code",
   "execution_count": 17,
   "metadata": {},
   "outputs": [
    {
     "name": "stdout",
     "output_type": "stream",
     "text": [
      "Date conversion successful.\n"
     ]
    }
   ],
   "source": [
    "\n"
   ]
  }
 ],
 "metadata": {
  "kernelspec": {
   "display_name": "lb",
   "language": "python",
   "name": "python3"
  },
  "language_info": {
   "codemirror_mode": {
    "name": "ipython",
    "version": 3
   },
   "file_extension": ".py",
   "mimetype": "text/x-python",
   "name": "python",
   "nbconvert_exporter": "python",
   "pygments_lexer": "ipython3",
   "version": "3.12.6"
  }
 },
 "nbformat": 4,
 "nbformat_minor": 2
}
